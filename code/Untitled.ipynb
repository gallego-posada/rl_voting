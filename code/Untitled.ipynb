{
 "cells": [
  {
   "cell_type": "code",
   "execution_count": 79,
   "metadata": {
    "collapsed": false
   },
   "outputs": [
    {
     "name": "stderr",
     "output_type": "stream",
     "text": [
      "[2017-05-08 22:57:36,104] Making new env: CartPole-v1\n"
     ]
    }
   ],
   "source": [
    "%matplotlib inline\n",
    "import matplotlib.pyplot as plt\n",
    "import gym\n",
    "import numpy as np\n",
    "env = gym.make('CartPole-v1')"
   ]
  },
  {
   "cell_type": "code",
   "execution_count": 63,
   "metadata": {
    "collapsed": false
   },
   "outputs": [
    {
     "name": "stderr",
     "output_type": "stream",
     "text": [
      "[2017-05-08 22:52:39,050] Making new env: CartPole-v1\n"
     ]
    },
    {
     "name": "stdout",
     "output_type": "stream",
     "text": [
      "1\n",
      "(array([ 0.01621144,  0.21928962, -0.02502632, -0.26046123]), 1.0, False, {})\n",
      "0\n",
      "(array([ 0.02059724,  0.0245337 , -0.03023554,  0.0242242 ]), 1.0, False, {})\n",
      "1\n",
      "(array([ 0.02108791,  0.22007591, -0.02975106, -0.27784295]), 1.0, False, {})\n",
      "0\n",
      "(array([ 0.02548943,  0.02539075, -0.03530792,  0.00531004]), 1.0, False, {})\n",
      "1\n",
      "(array([ 0.02599724,  0.22100081, -0.03520172, -0.29830055]), 1.0, False, {})\n",
      "1\n",
      "(array([ 0.03041726,  0.4166064 , -0.04116773, -0.60187434]), 1.0, False, {})\n",
      "0\n",
      "(array([ 0.03874939,  0.22208375, -0.05320522, -0.32243748]), 1.0, False, {})\n",
      "0\n",
      "(array([ 0.04319106,  0.02775822, -0.05965397, -0.04699661]), 1.0, False, {})\n",
      "1\n",
      "(array([ 0.04374623,  0.22368259, -0.0605939 , -0.35788827]), 1.0, False, {})\n",
      "0\n",
      "(array([ 0.04821988,  0.02947206, -0.06775166, -0.08491082]), 1.0, False, {})\n",
      "1\n",
      "(array([ 0.04880932,  0.22549648, -0.06944988, -0.39817661]), 1.0, False, {})\n",
      "1\n",
      "(array([ 0.05331925,  0.42153144, -0.07741341, -0.71192203]), 1.0, False, {})\n",
      "0\n",
      "(array([ 0.06174988,  0.22756193, -0.09165185, -0.44457597]), 1.0, False, {})\n"
     ]
    },
    {
     "name": "stderr",
     "output_type": "stream",
     "text": [
      "[2017-05-08 22:52:39,416] You are calling 'step()' even though this environment has already returned done = True. You should always call 'reset()' once you receive 'done = True' -- any further steps are undefined behavior.\n"
     ]
    },
    {
     "name": "stdout",
     "output_type": "stream",
     "text": [
      "1\n",
      "(array([ 0.06630112,  0.42385299, -0.10054337, -0.76468472]), 1.0, False, {})\n",
      "1\n",
      "(array([ 0.07477818,  0.62020517, -0.11583707, -1.08723553]), 1.0, False, {})\n",
      "1\n",
      "(array([ 0.08718228,  0.81664827, -0.13758178, -1.41390544]), 1.0, False, {})\n",
      "0\n",
      "(array([ 0.10351525,  0.62347302, -0.16585989, -1.16720222]), 1.0, False, {})\n",
      "0\n",
      "(array([ 0.11598471,  0.4308511 , -0.18920393, -0.93077398]), 1.0, False, {})\n",
      "0\n",
      "(array([ 0.12460173,  0.23871665, -0.20781941, -0.70301013]), 1.0, False, {})\n",
      "0\n",
      "(array([ 0.12937606,  0.04698779, -0.22187961, -0.48226501]), 1.0, True, {})\n",
      "0\n",
      "(array([ 0.13031582, -0.14442715, -0.23152491, -0.26687993]), 0.0, True, {})\n",
      "0\n",
      "(array([ 0.12742727, -0.33562541, -0.23686251, -0.05519681]), 0.0, True, {})\n",
      "0\n",
      "(array([ 0.12071477, -0.52670688, -0.23796645,  0.15443437]), 0.0, True, {})\n",
      "1\n",
      "(array([ 0.11018063, -0.32910843, -0.23487776, -0.20291433]), 0.0, True, {})\n",
      "1\n",
      "(array([ 0.10359846, -0.13153285, -0.23893605, -0.55956128]), 0.0, True, {})\n",
      "1\n",
      "(array([ 0.1009678 ,  0.06600496, -0.25012727, -0.91703071]), 0.0, True, {})\n",
      "0\n",
      "(array([ 0.1022879 , -0.12502422, -0.26846789, -0.71217693]), 0.0, True, {})\n",
      "0\n",
      "(array([ 0.09978742, -0.31562828, -0.28271142, -0.51449728]), 0.0, True, {})\n",
      "1\n",
      "(array([ 0.09347485, -0.11786257, -0.29300137, -0.88138403]), 0.0, True, {})\n",
      "0\n",
      "(array([ 0.0911176 , -0.3080767 , -0.31062905, -0.69313799]), 0.0, True, {})\n",
      "1\n",
      "(array([ 0.08495607, -0.11027641, -0.32449181, -1.06550213]), 0.0, True, {})\n",
      "1\n",
      "(array([ 0.08275054,  0.08735627, -0.34580185, -1.44021551]), 0.0, True, {})\n",
      "0\n",
      "(array([ 0.08449766, -0.10228409, -0.37460616, -1.27224554]), 0.0, True, {})\n",
      "1\n",
      "(array([ 0.08245198,  0.09520899, -0.40005107, -1.65551786]), 0.0, True, {})\n",
      "0\n",
      "(array([ 0.08435616, -0.09371307, -0.43316143, -1.50901321]), 0.0, True, {})\n",
      "0\n",
      "(array([ 0.0824819 , -0.28187802, -0.4633417 , -1.37623746]), 0.0, True, {})\n",
      "1\n",
      "(array([ 0.07684434, -0.08472956, -0.49086644, -1.77218068]), 0.0, True, {})\n",
      "1\n",
      "(array([ 0.07514975,  0.11171618, -0.52631006, -2.17064494]), 0.0, True, {})\n",
      "1\n",
      "(array([ 0.07738407,  0.30714971, -0.56972296, -2.57181198]), 0.0, True, {})\n",
      "1\n",
      "(array([ 0.08352707,  0.50117427, -0.6211592 , -2.97546294]), 0.0, True, {})\n",
      "1\n",
      "(array([ 0.09355055,  0.69329546, -0.68066846, -3.38091521]), 0.0, True, {})\n",
      "1\n",
      "(array([ 0.10741646,  0.88291853, -0.74828676, -3.78698212]), 0.0, True, {})\n",
      "0\n",
      "(array([ 0.12507483,  0.69189832, -0.8240264 , -3.77702973]), 0.0, True, {})\n",
      "1\n",
      "(array([ 0.1389128 ,  0.87667356, -0.899567  , -4.18106136]), 0.0, True, {})\n",
      "1\n",
      "(array([ 0.15644627,  1.05732012, -0.98318822, -4.57980977]), 0.0, True, {})\n",
      "0\n",
      "(array([ 0.17759267,  0.86169906, -1.07478442, -4.66182664]), 0.0, True, {})\n",
      "1\n",
      "(array([ 0.19482665,  1.03440195, -1.16802095, -5.0436856 ]), 0.0, True, {})\n",
      "1\n",
      "(array([ 0.21551469,  1.20151423, -1.26889466, -5.41241403]), 0.0, True, {})\n",
      "0\n",
      "(array([ 0.23954498,  0.99682936, -1.37714294, -5.60182683]), 0.0, True, {})\n",
      "1\n",
      "(array([ 0.25948156,  1.15357259, -1.48917948, -5.93557803]), 0.0, True, {})\n",
      "1\n",
      "(array([ 0.28255302,  1.30462344, -1.60789104, -6.24707128]), 0.0, True, {})\n",
      "1\n",
      "(array([ 0.30864548,  1.45050635, -1.73283247, -6.53275367]), 0.0, True, {})\n",
      "1\n",
      "(array([ 0.33765561,  1.59215927, -1.86348754, -6.78862364]), 0.0, True, {})\n",
      "0\n",
      "(array([ 0.3694988 ,  1.36524725, -1.99926001, -7.16832646]), 0.0, True, {})\n",
      "0\n",
      "(array([ 0.39680374,  1.13315625, -2.14262654, -7.58039198]), 0.0, True, {})\n",
      "0\n",
      "(array([ 0.41946687,  0.8966051 , -2.29423438, -8.01964238]), 0.0, True, {})\n",
      "0\n",
      "(array([ 0.43739897,  0.6571793 , -2.45462723, -8.4777429 ]), 0.0, True, {})\n",
      "1\n",
      "(array([ 0.45054255,  0.79669405, -2.62418209, -8.5023921 ]), 0.0, True, {})\n",
      "0\n",
      "(array([ 0.46647644,  0.5646754 , -2.79422993, -8.95028583]), 0.0, True, {})\n",
      "0\n",
      "(array([ 0.47776994,  0.34026079, -2.97323565, -9.36688585]), 0.0, True, {})\n",
      "1\n",
      "(array([ 0.48457516,  0.5183047 , -3.16057336, -9.15285938]), 0.0, True, {})\n",
      "1\n",
      "(array([ 0.49494125,  0.71524484, -3.34363055, -8.8519224 ]), 0.0, True, {})\n",
      "1\n",
      "(array([ 0.50924615,  0.92789955, -3.520669  , -8.48043267]), 0.0, True, {})\n",
      "0\n",
      "(array([ 0.52780414,  0.76530229, -3.69027765, -8.59821522]), 0.0, True, {})\n",
      "0\n",
      "(array([ 0.54311019,  0.61713022, -3.86224196, -8.63450799]), 0.0, True, {})\n",
      "1\n",
      "(array([ 0.55545279,  0.85963322, -4.03493212, -8.16718851]), 0.0, True, {})\n",
      "1\n",
      "(array([ 0.57264546,  1.10171107, -4.19827589, -7.71050623]), 0.0, True, {})\n",
      "1\n",
      "(array([ 0.59467968,  1.34024497, -4.35248601, -7.27855869]), 0.0, True, {})\n",
      "1\n",
      "(array([ 0.62148458,  1.57351644, -4.49805719, -6.88016346]), 0.0, True, {})\n",
      "1\n",
      "(array([ 0.65295491,  1.80086186, -4.63566045, -6.52035785]), 0.0, True, {})\n",
      "1\n",
      "(array([ 0.68897214,  2.02232646, -4.76606761, -6.20175888]), 0.0, True, {})\n",
      "0\n",
      "(array([ 0.72941867,  1.87467826, -4.89010279, -5.89629972]), 0.0, True, {})\n",
      "1\n",
      "(array([ 0.76691224,  2.08572892, -5.00802878, -5.66289435]), 0.0, True, {})\n",
      "0\n",
      "(array([ 0.80862682,  1.92715666, -5.12128667, -5.31234876]), 0.0, True, {})\n",
      "0\n",
      "(array([ 0.84716995,  1.7622259 , -5.22753365, -4.94422198]), 0.0, True, {})\n",
      "1\n",
      "(array([ 0.88241447,  1.96094223, -5.32641809, -4.83522647]), 0.0, True, {})\n",
      "0\n",
      "(array([ 0.92163331,  1.78624844, -5.42312261, -4.44395177]), 0.0, True, {})\n",
      "0\n",
      "(array([ 0.95735828,  1.60620466, -5.51200165, -4.0449459 ]), 0.0, True, {})\n",
      "1\n",
      "(array([ 0.98948237,  1.79845094, -5.59290057, -4.04681818]), 0.0, True, {})\n",
      "0\n",
      "(array([ 1.02545139,  1.61199305, -5.67383693, -3.64395503]), 0.0, True, {})\n",
      "1\n",
      "(array([ 1.05769125,  1.80321525, -5.74671603, -3.71089844]), 0.0, True, {})\n",
      "1\n",
      "(array([ 1.09375556,  1.9952333 , -5.820934  , -3.80819835]), 0.0, True, {})\n",
      "0\n",
      "(array([ 1.13366022,  1.80348699, -5.89709797, -3.41965083]), 0.0, True, {})\n",
      "1\n",
      "(array([ 1.16972996,  1.99590563, -5.96549098, -3.57632216]), 0.0, True, {})\n",
      "0\n",
      "(array([ 1.20964808,  1.80181162, -6.03701743, -3.20791151]), 0.0, True, {})\n",
      "1\n",
      "(array([ 1.24568431,  1.99515055, -6.10117566, -3.4175325 ]), 0.0, True, {})\n",
      "0\n",
      "(array([ 1.28558732,  1.80000591, -6.16952631, -3.07643479]), 0.0, True, {})\n",
      "0\n",
      "(array([ 1.32158744,  1.60449915, -6.231055  , -2.751723  ]), 0.0, True, {})\n",
      "0\n",
      "(array([ 1.35367742,  1.40905469, -6.28608946, -2.44363519]), 0.0, True, {})\n",
      "1\n",
      "(array([ 1.38185852,  1.60420125, -6.33496217, -2.73720762]), 0.0, True, {})\n",
      "0\n",
      "(array([ 1.41394254,  1.40948039, -6.38970632, -2.46073335]), 0.0, True, {})\n",
      "1\n",
      "(array([ 1.44213215,  1.60532841, -6.43892099, -2.78409826]), 0.0, True, {})\n",
      "1\n",
      "(array([ 1.47423872,  1.80113027, -6.49460295, -3.11984801]), 0.0, True, {})\n",
      "1\n",
      "(array([ 1.51026132,  1.99657227, -6.55699991, -3.46817835]), 0.0, True, {})\n",
      "0\n",
      "(array([ 1.55019277,  1.80304609, -6.62636348, -3.26820272]), 0.0, True, {})\n",
      "1\n",
      "(array([ 1.58625369,  1.99759423, -6.69172753, -3.64193439]), 0.0, True, {})\n",
      "0\n",
      "(array([ 1.62620557,  1.80478665, -6.76456622, -3.4933228 ]), 0.0, True, {})\n",
      "0\n",
      "(array([ 1.66230131,  1.61304548, -6.83443268, -3.37451934]), 0.0, True, {})\n",
      "1\n",
      "(array([ 1.69456222,  1.80489667, -6.90192306, -3.77365085]), 0.0, True, {})\n",
      "0\n",
      "(array([ 1.73066015,  1.61321106, -6.97739608, -3.70994916]), 0.0, True, {})\n"
     ]
    }
   ],
   "source": [
    "\n",
    "#env = gym.make('MountainCar-v0')\n",
    "env = gym.make('CartPole-v1')\n",
    "#env = gym.make('BipedalWalker-v2')\n",
    "env.reset()\n",
    "for _ in range(100):\n",
    "    env.render()\n",
    "    action = env.action_space.sample()\n",
    "    print(action)\n",
    "    observation, reward, done, info = env.step(action)\n",
    "    print(observation, reward, done, info)\n",
    "    \n",
    "env.render(close=True)"
   ]
  },
  {
   "cell_type": "code",
   "execution_count": 73,
   "metadata": {
    "collapsed": false
   },
   "outputs": [
    {
     "name": "stdout",
     "output_type": "stream",
     "text": [
      "(array([  4.80000000e+00,   3.40282347e+38,   4.18879020e-01,\n",
      "         3.40282347e+38]), array([ -4.80000000e+00,  -3.40282347e+38,  -4.18879020e-01,\n",
      "        -3.40282347e+38]))\n"
     ]
    }
   ],
   "source": [
    "mean = 1./12 * (env.observation_space.high + env.observation_space.low)\n",
    "spread = 1./12 * (env.observation_space.high - env.observation_space.low)**2\n",
    "\n",
    "print(env.observation_space.high, env.observation_space.low)"
   ]
  },
  {
   "cell_type": "code",
   "execution_count": 69,
   "metadata": {
    "collapsed": false
   },
   "outputs": [
    {
     "data": {
      "text/plain": [
       "array([ -1.94031813e-01,   2.98778237e+37,  -5.35263403e-03,\n",
       "        -1.78085268e+37])"
      ]
     },
     "execution_count": 69,
     "metadata": {},
     "output_type": "execute_result"
    }
   ],
   "source": [
    "np.random.multivariate_normal(mean, 0.01 * np.diag(spread))"
   ]
  },
  {
   "cell_type": "code",
   "execution_count": 66,
   "metadata": {
    "collapsed": false
   },
   "outputs": [
    {
     "data": {
      "text/plain": [
       "array([  1.63105598e+00,  -3.25097662e+38,   2.78193768e-01,\n",
       "        -3.01483192e+38])"
      ]
     },
     "execution_count": 66,
     "metadata": {},
     "output_type": "execute_result"
    }
   ],
   "source": [
    "env.observation_space.sample() + np.random.multivariate_normal(mean, 0.01 * np.diag(spread))"
   ]
  },
  {
   "cell_type": "code",
   "execution_count": 80,
   "metadata": {
    "collapsed": false
   },
   "outputs": [
    {
     "data": {
      "text/plain": [
       "array([[ -2.80585091e+00,  -2.18378997e+38,  -3.82480745e-01,\n",
       "          6.71243746e+37],\n",
       "       [  4.57507067e+00,   2.67045918e+38,   1.34937558e-01,\n",
       "         -1.76015308e+38],\n",
       "       [  2.46943345e+00,   2.90803773e+38,   1.45415045e-01,\n",
       "          1.73804785e+38],\n",
       "       [  2.81109373e+00,   8.86151086e+37,  -2.33149669e-02,\n",
       "          1.58219760e+37],\n",
       "       [  4.11146720e+00,   3.25503232e+38,   2.86398178e-01,\n",
       "         -9.72985439e+37],\n",
       "       [  4.45157421e-01,  -2.93172478e+38,  -2.19686109e-01,\n",
       "          2.42843995e+38],\n",
       "       [ -4.32582122e+00,   7.75832477e+37,   6.57209426e-02,\n",
       "         -3.23345635e+38],\n",
       "       [ -3.49240220e+00,   6.14295487e+37,   3.13253928e-02,\n",
       "         -3.19610298e+38],\n",
       "       [  1.54026089e-01,  -3.25483162e+38,  -1.75037420e-01,\n",
       "         -1.73397656e+38],\n",
       "       [ -4.07724685e+00,   1.18218255e+38,  -5.95096224e-02,\n",
       "         -1.71942917e+38]])"
      ]
     },
     "execution_count": 80,
     "metadata": {},
     "output_type": "execute_result"
    }
   ],
   "source": [
    "sample_size = 10\n",
    "\n",
    "sample = np.array([env.observation_space.sample() for _ in range(sample_size)])\n",
    "\n",
    "sample"
   ]
  },
  {
   "cell_type": "code",
   "execution_count": 81,
   "metadata": {
    "collapsed": false
   },
   "outputs": [
    {
     "data": {
      "image/png": "[encoded data removed]",
      "text/plain": [
       "<matplotlib.figure.Figure at 0x7f6c668f13d0>"
      ]
     },
     "metadata": {},
     "output_type": "display_data"
    },
    {
     "data": {
      "image/png": "[encoded data removed]",
      "text/plain": [
       "<matplotlib.figure.Figure at 0x7f6c66a84510>"
      ]
     },
     "metadata": {},
     "output_type": "display_data"
    },
    {
     "data": {
      "image/png": "[encoded data removed]",
      "text/plain": [
       "<matplotlib.figure.Figure at 0x7f6c66cbb650>"
      ]
     },
     "metadata": {},
     "output_type": "display_data"
    },
    {
     "data": {
      "image/png": "[encoded data removed]",
      "text/plain": [
       "<matplotlib.figure.Figure at 0x7f6c68e7c550>"
      ]
     },
     "metadata": {},
     "output_type": "display_data"
    }
   ],
   "source": [
    "for i in range(len(sample[0])):\n",
    "    a = np.hstack(sample[:,i])\n",
    "    plt.hist(a, bins='auto')  # plt.hist passes it's arguments to np.histogram\n",
    "    plt.title(\"State[%d]\" % i)\n",
    "    plt.show()"
   ]
  },
  {
   "cell_type": "code",
   "execution_count": null,
   "metadata": {
    "collapsed": true
   },
   "outputs": [],
   "source": []
  }
 ],
 "metadata": {
  "kernelspec": {
   "display_name": "Python 2",
   "language": "python",
   "name": "python2"
  },
  "language_info": {
   "codemirror_mode": {
    "name": "ipython",
    "version": 2
   },
   "file_extension": ".py",
   "mimetype": "text/x-python",
   "name": "python",
   "nbconvert_exporter": "python",
   "pygments_lexer": "ipython2",
   "version": "2.7.12"
  }
 },
 "nbformat": 4,
 "nbformat_minor": 1
}
