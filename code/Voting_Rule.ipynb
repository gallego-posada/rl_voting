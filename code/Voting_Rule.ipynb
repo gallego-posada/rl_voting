{
 "cells": [
  {
   "cell_type": "markdown",
   "metadata": {},
   "source": [
    "# #  Voting Algorithm\n",
    "\n",
    "- Plurality\n",
    "- Borda\n",
    "- 100 p\n",
    "- Median voter\n",
    "- Copeland"
   ]
  },
  {
   "cell_type": "code",
   "execution_count": 1,
   "metadata": {
    "collapsed": true
   },
   "outputs": [],
   "source": [
    "# fake Q function\n",
    "def Q1(stage,action):\n",
    "    return stage+action\n",
    "def Q2(stage,action):\n",
    "    return action\n",
    "def Q3(stage,action):\n",
    "    return action+1\n",
    "Q_function_list=[Q1,Q2,Q3]"
   ]
  },
  {
   "cell_type": "code",
   "execution_count": 15,
   "metadata": {
    "collapsed": false
   },
   "outputs": [],
   "source": [
    "# Ranking Function\n",
    "#def action_score_ranking(stage, action_list, Q):\n",
    "    #action_score_ranking = [(action,Q(stage,action)) for action in action_list]\n",
    "    #action_score_ranking.sort(key=lambda action_score: action_score[1], reverse=True)\n",
    "    #return action_score_ranking\n",
    "def action_score_ranking(stage, action_list, Q):\n",
    "    action_score_ranking = [(action,Q[action]) for action in action_list]\n",
    "    action_score_ranking.sort(key=lambda action_score: action_score[1], reverse=True)\n",
    "    return action_score_ranking\n",
    "def ranking(stage, action_list, Q):\n",
    "    ranking = [action[0] for action in action_score_ranking(stage, action_list, Q)]\n",
    "    return ranking\n",
    "\n",
    "def scoring(stage, action_list, Q):\n",
    "    scoring = [score[1] for score in action_score_ranking(stage, action_list, Q)]\n",
    "    return scoring"
   ]
  },
  {
   "cell_type": "code",
   "execution_count": 30,
   "metadata": {
    "collapsed": false
   },
   "outputs": [],
   "source": [
    "# Plurality\n",
    "def plurality(stage, action_list, Q_function_list):\n",
    "    from random import sample\n",
    "    from collections import Counter\n",
    "    winner_list = [ranking(stage, action_list, Q)[0] for Q in Q_function_list]\n",
    "    decision = dict(Counter(winner_list))\n",
    "    print(decision)\n",
    "    winners = {key for key, values in decision.items() if values == max(decision.values())}\n",
    "    print(winners)\n",
    "    if len(winners) != 1:\n",
    "        winners = sample(winners,1)\n",
    "    return winners.pop()"
   ]
  },
  {
   "cell_type": "code",
   "execution_count": 36,
   "metadata": {
    "collapsed": false
   },
   "outputs": [
    {
     "name": "stdout",
     "output_type": "stream",
     "text": [
      "{2: 1, 4: 2}\n",
      "{4}\n",
      "10\n"
     ]
    }
   ],
   "source": [
    "#test plurality \n",
    "\n",
    "stage  = 0 \n",
    "action_list=[-5,-4,-3,3,10,5]\n",
    "Q_function_list=[[0.25,-0.33,10,-2,7,3],[9,0.36,-7,-50,12,9.2],[5,0.7,6,1,11,-2]]\n",
    "action_list_index=[0,1,2,3,4,5]\n",
    "win_index= plurality(stage, action_list_index, Q_function_list)\n",
    "print(action_list[win_index])"
   ]
  },
  {
   "cell_type": "code",
   "execution_count": 40,
   "metadata": {
    "collapsed": false
   },
   "outputs": [
    {
     "name": "stdout",
     "output_type": "stream",
     "text": [
      "b\n"
     ]
    }
   ],
   "source": [
    "x=1\n",
    "if(x==2):\n",
    "    print('a')\n",
    "elif(x==1):\n",
    "        print('b')"
   ]
  },
  {
   "cell_type": "code",
   "execution_count": 198,
   "metadata": {
    "collapsed": false
   },
   "outputs": [],
   "source": [
    "# Borda\n",
    "def borda(stage, action_list, Q_function_list):\n",
    "    from random import sample\n",
    "    decision = {action: 0 for action in action_list}\n",
    "    score_list = list(range(len(action_list)))\n",
    "    score_list.sort(reverse=True)\n",
    "    for Q in Q_function_list:\n",
    "        rank = ranking(stage, action_list, Q)\n",
    "        for action in action_list:\n",
    "            decision[action] += score_list[rank.index(action)]\n",
    "    winners = {key for key, values in decision.items() if values == max(decision.values())}\n",
    "    if len(winners) != 1:\n",
    "        winners = sample(winners,1)\n",
    "    return winners.pop()"
   ]
  },
  {
   "cell_type": "code",
   "execution_count": 199,
   "metadata": {
    "collapsed": false
   },
   "outputs": [],
   "source": [
    "# 100 Point\n",
    "def hundredpoint(stage, action_list, Q_function_list):\n",
    "    from random import sample\n",
    "    decision = dict()\n",
    "    for action in action_list:\n",
    "        decision[action] = 0\n",
    "    for Q in Q_function_list:\n",
    "        rank = ranking(stage, action_list, Q)\n",
    "        score = scoring(stage, action_list, Q)\n",
    "        score_list = [(100*s)/sum(score) for s in score]\n",
    "        for action in action_list:\n",
    "            decision[action] += score_list[rank.index(action)]\n",
    "    winners = {key for key, values in decision.items() if values == max(decision.values())}\n",
    "    if len(winners) != 1:\n",
    "        winners = sample(winners,1)\n",
    "    return winners.pop()"
   ]
  },
  {
   "cell_type": "code",
   "execution_count": 200,
   "metadata": {
    "collapsed": false
   },
   "outputs": [],
   "source": [
    "# Median Voter\n",
    "def median(stage, action_list, Q_function_list):\n",
    "    from random import sample\n",
    "    from collections import Counter\n",
    "    winner_list = [ranking(stage, action_list, Q)[0] for Q in Q_function_list]\n",
    "    score_list = {action: action_list.index(action)+1 for action in action_list}\n",
    "    interval = (max(score_list.values())-min(score_list.values()))/len(score_list)\n",
    "    ### Calculate the final score\n",
    "    decision = 0\n",
    "    for winner in winner_list:\n",
    "        decision += score_list[winner]\n",
    "    decision = decision/len(Q_function_list)\n",
    "    ### Calculate the final score\n",
    "    winner = action_list[int((decision-min(score_list.values()))/interval)]\n",
    "    return winner"
   ]
  },
  {
   "cell_type": "code",
   "execution_count": 193,
   "metadata": {
    "collapsed": false
   },
   "outputs": [],
   "source": [
    "# Copeland\n",
    "def copeland(stage, action_list, Q_function_list):\n",
    "    from random import sample\n",
    "    decision = {action: 0 for action in action_list}\n",
    "    for Q in Q_function_list:\n",
    "        rank = ranking(stage, action_list, Q)\n",
    "        for action in action_list:\n",
    "            decision[action] += len(rank[rank.index(action)+1:])\n",
    "            decision[action] -= len(rank[0:rank.index(action)])\n",
    "    winners = {key for key, values in decision.items() if values == max(decision.values())}\n",
    "    if len(winners) != 1:\n",
    "        winners = sample(winners,1)\n",
    "    return winners.pop()"
   ]
  },
  {
   "cell_type": "code",
   "execution_count": null,
   "metadata": {
    "collapsed": true
   },
   "outputs": [],
   "source": []
  }
 ],
 "metadata": {
  "anaconda-cloud": {},
  "kernelspec": {
   "display_name": "Python [default]",
   "language": "python",
   "name": "python3"
  },
  "language_info": {
   "codemirror_mode": {
    "name": "ipython",
    "version": 3
   },
   "file_extension": ".py",
   "mimetype": "text/x-python",
   "name": "python",
   "nbconvert_exporter": "python",
   "pygments_lexer": "ipython3",
   "version": "3.5.2"
  }
 },
 "nbformat": 4,
 "nbformat_minor": 2
}
